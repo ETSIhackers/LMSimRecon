{
 "cells": [
  {
   "cell_type": "code",
   "execution_count": 214,
   "metadata": {},
   "outputs": [],
   "source": [
    "import sys\n",
    "sys.path.append('../PETSIRD/python')\n",
    "import numpy as np\n",
    "import prd\n",
    "from io import BytesIO\n",
    "from prd.types import TimeBlock, CoincidenceEvent\n",
    "import itertools\n",
    "import array_api_compat.numpy as xp\n",
    "import parallelproj\n",
    "from array_api_compat import to_device\n",
    "import matplotlib.pyplot as plt\n",
    "if 'numpy' in xp.__name__:\n",
    "    dev = 'cpu'\n",
    "elif 'cupy' in xp.__name__:\n",
    "    dev = xp.cuda.Device(0)\n",
    "elif 'torch' in xp.__name__:\n",
    "    # using torch valid choises are cpu or cuda\n",
    "    dev = 'cuda'\n"
   ]
  },
  {
   "attachments": {},
   "cell_type": "markdown",
   "metadata": {},
   "source": [
    "# Generate fake data to convert to PETSIRD"
   ]
  },
  {
   "attachments": {},
   "cell_type": "markdown",
   "metadata": {},
   "source": [
    "## Part 1: Python dtypes to PETSIRD format"
   ]
  },
  {
   "cell_type": "markdown",
   "metadata": {},
   "source": [
    "First lets create arrays of detector IDs and corresponding counts:"
   ]
  },
  {
   "cell_type": "code",
   "execution_count": 140,
   "metadata": {},
   "outputs": [],
   "source": [
    "N_events = 7 # Number of detected events\n",
    "N_detectors = 10 # Number of detectors\n",
    "detectors1, detectors2 = np.array(list(itertools.combinations(np.arange(N_detectors), 2))).T\n",
    "counts = np.random.poisson(np.ones(len(detectors1))*3)\n"
   ]
  },
  {
   "cell_type": "code",
   "execution_count": 141,
   "metadata": {},
   "outputs": [
    {
     "name": "stdout",
     "output_type": "stream",
     "text": [
      "[0 0 0 0 0 0 0 0 0 1 1 1 1 1 1 1 1 2 2 2 2 2 2 2 3 3 3 3 3 3 4 4 4 4 4 5 5\n",
      " 5 5 6 6 6 7 7 8]\n",
      "[1 2 3 4 5 6 7 8 9 2 3 4 5 6 7 8 9 3 4 5 6 7 8 9 4 5 6 7 8 9 5 6 7 8 9 6 7\n",
      " 8 9 7 8 9 8 9 9]\n",
      "[2 2 1 5 2 3 2 3 2 4 4 6 2 1 3 2 9 3 1 4 4 2 5 3 3 5 2 4 4 2 4 2 1 2 6 2 2\n",
      " 5 2 3 0 1 1 4 3]\n"
     ]
    }
   ],
   "source": [
    "print(detectors1)\n",
    "print(detectors2)\n",
    "print(counts)\n"
   ]
  },
  {
   "cell_type": "markdown",
   "metadata": {},
   "source": [
    "Now we'll create scanner information, assigning some positions to these tectors:"
   ]
  },
  {
   "cell_type": "code",
   "execution_count": 268,
   "metadata": {},
   "outputs": [
    {
     "data": {
      "text/plain": [
       "ScannerInformation(modelName=None, detectors=[Detector(id=0, x=1.0, y=0.0, z=0), Detector(id=1, x=0.9921147013144779, y=0.12533323356430426, z=0), Detector(id=2, x=0.9685831611286311, y=0.2486898871648548, z=0), Detector(id=3, x=0.9297764858882515, y=0.3681245526846779, z=0), Detector(id=4, x=0.8763066800438636, y=0.4817536741017153, z=0), Detector(id=5, x=0.8090169943749475, y=0.5877852522924731, z=0), Detector(id=6, x=0.7289686274214116, y=0.6845471059286886, z=0), Detector(id=7, x=0.6374239897486896, y=0.7705132427757893, z=0), Detector(id=8, x=0.5358267949789965, y=0.8443279255020151, z=0), Detector(id=9, x=0.42577929156507266, y=0.9048270524660196, z=0), Detector(id=10, x=0.30901699437494745, y=0.9510565162951535, z=0), Detector(id=11, x=0.18738131458572474, y=0.9822872507286886, z=0), Detector(id=12, x=0.06279051952931353, y=0.9980267284282716, z=0), Detector(id=13, x=-0.0627905195293134, y=0.9980267284282716, z=0), Detector(id=14, x=-0.18738131458572482, y=0.9822872507286886, z=0), Detector(id=15, x=-0.30901699437494734, y=0.9510565162951536, z=0), Detector(id=16, x=-0.4257792915650727, y=0.9048270524660195, z=0), Detector(id=17, x=-0.5358267949789969, y=0.844327925502015, z=0), Detector(id=18, x=-0.6374239897486897, y=0.7705132427757893, z=0), Detector(id=19, x=-0.7289686274214113, y=0.6845471059286888, z=0), Detector(id=20, x=-0.8090169943749473, y=0.5877852522924732, z=0), Detector(id=21, x=-0.8763066800438634, y=0.4817536741017156, z=0), Detector(id=22, x=-0.9297764858882513, y=0.36812455268467814, z=0), Detector(id=23, x=-0.9685831611286311, y=0.24868988716485482, z=0), Detector(id=24, x=-0.9921147013144778, y=0.12533323356430454, z=0), Detector(id=25, x=-1.0, y=1.2246467991473532e-16, z=0), Detector(id=26, x=-0.9921147013144779, y=-0.12533323356430429, z=0), Detector(id=27, x=-0.9685831611286311, y=-0.24868988716485502, z=0), Detector(id=28, x=-0.9297764858882512, y=-0.3681245526846783, z=0), Detector(id=29, x=-0.8763066800438637, y=-0.481753674101715, z=0), Detector(id=30, x=-0.8090169943749476, y=-0.587785252292473, z=0), Detector(id=31, x=-0.7289686274214116, y=-0.6845471059286887, z=0), Detector(id=32, x=-0.6374239897486895, y=-0.7705132427757894, z=0), Detector(id=33, x=-0.5358267949789963, y=-0.8443279255020153, z=0), Detector(id=34, x=-0.42577929156507216, y=-0.9048270524660198, z=0), Detector(id=35, x=-0.30901699437494756, y=-0.9510565162951535, z=0), Detector(id=36, x=-0.18738131458572463, y=-0.9822872507286887, z=0), Detector(id=37, x=-0.06279051952931321, y=-0.9980267284282716, z=0), Detector(id=38, x=0.06279051952931283, y=-0.9980267284282716, z=0), Detector(id=39, x=0.18738131458572427, y=-0.9822872507286887, z=0), Detector(id=40, x=0.30901699437494723, y=-0.9510565162951536, z=0), Detector(id=41, x=0.4257792915650718, y=-0.9048270524660199, z=0), Detector(id=42, x=0.535826794978996, y=-0.8443279255020155, z=0), Detector(id=43, x=0.6374239897486893, y=-0.7705132427757896, z=0), Detector(id=44, x=0.7289686274214112, y=-0.684547105928689, z=0), Detector(id=45, x=0.8090169943749473, y=-0.5877852522924734, z=0), Detector(id=46, x=0.8763066800438636, y=-0.4817536741017153, z=0), Detector(id=47, x=0.9297764858882511, y=-0.3681245526846787, z=0), Detector(id=48, x=0.968583161128631, y=-0.24868988716485535, z=0), Detector(id=49, x=0.9921147013144778, y=-0.12533323356430465, z=0)], tofBinEdges=array([], dtype=float32), tofResolution=0.0, energyBinEdges=array([], dtype=float32), energyResolutionAt511=0.0, listmodeTimeBlockDuration=0)"
      ]
     },
     "execution_count": 268,
     "metadata": {},
     "output_type": "execute_result"
    }
   ],
   "source": [
    "detectors = []\n",
    "for i in range(N_detectors):\n",
    "    x = np.cos(i/N_detectors * 2 * np.pi)\n",
    "    y = np.sin(i/N_detectors * 2 * np.pi)\n",
    "    detectors.append(prd.Detector(id=i, x=x, y=y, z=0))\n",
    "scanner_information = prd.ScannerInformation(detectors=detectors)\n"
   ]
  },
  {
   "cell_type": "markdown",
   "metadata": {},
   "source": [
    "Now we'll create the event information for each coincidence event:"
   ]
  },
  {
   "cell_type": "code",
   "execution_count": 143,
   "metadata": {},
   "outputs": [],
   "source": [
    "events = []\n",
    "for count, detector1, detector2 in zip(counts, detectors1, detectors2):\n",
    "    for _ in range(count):\n",
    "        events.append(CoincidenceEvent(detector_1_id=int(detector1), detector_2_id=int(detector2)))\n",
    "time_block = TimeBlock(id=0, prompt_events=events)\n"
   ]
  },
  {
   "cell_type": "markdown",
   "metadata": {},
   "source": [
    "And save to binary file (the true PETSIRD format!)"
   ]
  },
  {
   "cell_type": "code",
   "execution_count": 144,
   "metadata": {},
   "outputs": [],
   "source": [
    "with prd.BinaryPrdExperimentWriter('data.bin') as writer:\n",
    "    writer.write_header(prd.Header(scanner=scanner_information))\n",
    "    writer.write_time_blocks(\n",
    "        (time_block,)\n",
    "    )\n"
   ]
  },
  {
   "attachments": {},
   "cell_type": "markdown",
   "metadata": {},
   "source": [
    "## Part 2: Opening data"
   ]
  },
  {
   "cell_type": "markdown",
   "metadata": {},
   "source": [
    "Convert binary PETSIRD data to a python format that can be reconstructed:"
   ]
  },
  {
   "cell_type": "code",
   "execution_count": 269,
   "metadata": {},
   "outputs": [],
   "source": [
    "def PRD2Numpy(filepath):\n",
    "    with open(filepath, 'rb') as f:\n",
    "        data = f.read()\n",
    "        with prd.BinaryPrdExperimentReader(BytesIO(data)) as reader:\n",
    "            # Read header, get number of detectors\n",
    "            header = reader.read_header()\n",
    "            N_detectors = len(header.scanner.detectors)\n",
    "            detectors1, detectors2 = np.meshgrid(*2*[np.arange(N_detectors)], indexing='ij')\n",
    "            counts = np.zeros((N_detectors,N_detectors), dtype=int)\n",
    "            for time_block in reader.read_time_blocks():\n",
    "                for event in time_block.prompt_events:\n",
    "                    counts[event.detector_1_id, event.detector_2_id] +=1\n",
    "            idx = np.triu_indices(N_detectors, k=1)\n",
    "            return detectors1[idx], detectors2[idx], counts[idx]\n"
   ]
  },
  {
   "cell_type": "markdown",
   "metadata": {},
   "source": [
    "Now we can extract detector IDs and counts:"
   ]
  },
  {
   "cell_type": "code",
   "execution_count": 271,
   "metadata": {},
   "outputs": [],
   "source": [
    "detectors1, detectors2, counts = PRD2Numpy('data.bin')\n"
   ]
  },
  {
   "cell_type": "code",
   "execution_count": 272,
   "metadata": {},
   "outputs": [
    {
     "name": "stdout",
     "output_type": "stream",
     "text": [
      "[0 0 0 0 0 0 0 0 0 1 1 1 1 1 1 1 1 2 2 2 2 2 2 2 3 3 3 3 3 3 4 4 4 4 4 5 5\n",
      " 5 5 6 6 6 7 7 8]\n",
      "[1 2 3 4 5 6 7 8 9 2 3 4 5 6 7 8 9 3 4 5 6 7 8 9 4 5 6 7 8 9 5 6 7 8 9 6 7\n",
      " 8 9 7 8 9 8 9 9]\n",
      "[2 2 1 5 2 3 2 3 2 4 4 6 2 1 3 2 9 3 1 4 4 2 5 3 3 5 2 4 4 2 4 2 1 2 6 2 2\n",
      " 5 2 3 0 1 1 4 3]\n"
     ]
    }
   ],
   "source": [
    "print(detectors1)\n",
    "print(detectors2)\n",
    "print(counts)\n"
   ]
  },
  {
   "cell_type": "markdown",
   "metadata": {},
   "source": [
    "# Data From ParallelProj"
   ]
  },
  {
   "cell_type": "markdown",
   "metadata": {},
   "source": [
    "Now we'll consider saving and opening data from parallel proj. The scanner is as follows:\n",
    "\n",
    "* 50 detectors along a ring of radius 2cm (non-physical but whatever) at $z=0$\n",
    "* Voxel size of 1/20 cm, array dimensions of 20x20x20\n",
    "* Rectangular image filled with 1s "
   ]
  },
  {
   "cell_type": "code",
   "execution_count": 274,
   "metadata": {},
   "outputs": [],
   "source": [
    "N_detectors = 50 # Number of detectors\n",
    "detectors1, detectors2 = xp.array(list(itertools.combinations(xp.arange(N_detectors), 2))).T\n",
    "x_pos = 2*xp.cos(xp.arange(N_detectors)/N_detectors * 2 * xp.pi)\n",
    "y_pos = 2*xp.sin(xp.arange(N_detectors)/N_detectors * 2 * xp.pi)\n",
    "z_pos = xp.zeros(N_detectors)\n",
    "\n",
    "N = 20\n",
    "voxel_size = to_device(xp.asarray([1/N, 1/N, 1/N], dtype=xp.float32), dev)\n",
    "img_origin = (-to_device(xp.asarray(N, dtype=xp.float32), dev) / 2 +\n",
    "              0.5) * voxel_size\n",
    "img_dim=((N,N,N))\n",
    "img = xp.zeros(img_dim)\n",
    "img[4:16,4:16,4:16] = 1\n"
   ]
  },
  {
   "cell_type": "markdown",
   "metadata": {},
   "source": [
    "Lets get the start and end positions:"
   ]
  },
  {
   "cell_type": "code",
   "execution_count": 248,
   "metadata": {},
   "outputs": [],
   "source": [
    "xstart = xp.array([x_pos[detectors1], y_pos[detectors1], z_pos[detectors1]]).T\n",
    "xend = xp.array([x_pos[detectors2], y_pos[detectors2], z_pos[detectors2]]).T\n"
   ]
  },
  {
   "cell_type": "markdown",
   "metadata": {},
   "source": [
    "And forward project to listmode:"
   ]
  },
  {
   "cell_type": "code",
   "execution_count": 255,
   "metadata": {},
   "outputs": [],
   "source": [
    "img_fwd = parallelproj.joseph3d_fwd(xstart, xend, img, img_origin, voxel_size)\n",
    "img_fwd_realization = np.random.poisson(img_fwd)\n"
   ]
  },
  {
   "cell_type": "markdown",
   "metadata": {},
   "source": [
    "We can look at the backprojection in the central axial slice ($z=0$) corresponding to the location of the ring"
   ]
  },
  {
   "cell_type": "code",
   "execution_count": 275,
   "metadata": {},
   "outputs": [
    {
     "data": {
      "text/plain": [
       "<matplotlib.colorbar.Colorbar at 0x7fc988841a00>"
      ]
     },
     "execution_count": 275,
     "metadata": {},
     "output_type": "execute_result"
    },
    {
     "data": {
      "image/png": "[encoded data removed]",
      "text/plain": [
       "<Figure size 640x480 with 2 Axes>"
      ]
     },
     "metadata": {},
     "output_type": "display_data"
    }
   ],
   "source": [
    "sino = to_device(xp.ones(img_fwd.shape, dtype=xp.float32), dev)\n",
    "back_img = parallelproj.joseph3d_back(xstart, xend, img_dim, img_origin,\n",
    "                                      voxel_size, sino)\n",
    "plt.pcolormesh(back_img[:,:,10])\n",
    "plt.colorbar()\n"
   ]
  },
  {
   "cell_type": "markdown",
   "metadata": {},
   "source": [
    "Save the listmode to binary:"
   ]
  },
  {
   "cell_type": "code",
   "execution_count": 260,
   "metadata": {},
   "outputs": [],
   "source": [
    "detectors = []\n",
    "for i in range(N_detectors):\n",
    "    detectors.append(prd.Detector(id=i, x=x_pos[i], y=y_pos[i], z=z_pos[i]))\n",
    "scanner_information = prd.ScannerInformation(detectors=detectors)\n",
    "\n",
    "events = []\n",
    "for count, detector1, detector2 in zip(img_fwd_realization, detectors1, detectors2):\n",
    "    for _ in range(count):\n",
    "        events.append(CoincidenceEvent(detector_1_id=int(detector1), detector_2_id=int(detector2)))\n",
    "time_block = TimeBlock(id=0, prompt_events=events)\n",
    "\n",
    "with prd.BinaryPrdExperimentWriter('paraproj_data.bin') as writer:\n",
    "    writer.write_header(prd.Header(scanner=scanner_information))\n",
    "    writer.write_time_blocks(\n",
    "        (time_block,)\n",
    "    )\n"
   ]
  },
  {
   "cell_type": "markdown",
   "metadata": {},
   "source": [
    "Open data and backproject:"
   ]
  },
  {
   "cell_type": "code",
   "execution_count": 261,
   "metadata": {},
   "outputs": [],
   "source": [
    "detectors1, detectors2, counts = PRD2Numpy('paraproj_data.bin')\n"
   ]
  },
  {
   "cell_type": "markdown",
   "metadata": {},
   "source": [
    "TODO tomorrow: dictionary to go from detector ID to position"
   ]
  }
 ],
 "metadata": {
  "kernelspec": {
   "display_name": "prd",
   "language": "python",
   "name": "python3"
  },
  "language_info": {
   "codemirror_mode": {
    "name": "ipython",
    "version": 3
   },
   "file_extension": ".py",
   "mimetype": "text/x-python",
   "name": "python",
   "nbconvert_exporter": "python",
   "pygments_lexer": "ipython3",
   "version": "3.12.0"
  }
 },
 "nbformat": 4,
 "nbformat_minor": 2
}
